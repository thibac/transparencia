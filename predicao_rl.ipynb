{
 "cells": [
  {
   "cell_type": "code",
   "execution_count": 53,
   "metadata": {},
   "outputs": [],
   "source": [
    "import pandas as pd\n",
    "import numpy as np\n",
    "import matplotlib.pyplot as plt\n",
    "import seaborn as sns\n",
    "from collections import Counter"
   ]
  },
  {
   "cell_type": "code",
   "execution_count": 54,
   "metadata": {},
   "outputs": [
    {
     "name": "stdout",
     "output_type": "stream",
     "text": [
      "6730\n"
     ]
    },
    {
     "data": {
      "text/html": [
       "<div>\n",
       "<style scoped>\n",
       "    .dataframe tbody tr th:only-of-type {\n",
       "        vertical-align: middle;\n",
       "    }\n",
       "\n",
       "    .dataframe tbody tr th {\n",
       "        vertical-align: top;\n",
       "    }\n",
       "\n",
       "    .dataframe thead th {\n",
       "        text-align: right;\n",
       "    }\n",
       "</style>\n",
       "<table border=\"1\" class=\"dataframe\">\n",
       "  <thead>\n",
       "    <tr style=\"text-align: right;\">\n",
       "      <th></th>\n",
       "      <th>Unnamed: 0</th>\n",
       "      <th>Unnamed: 0.1</th>\n",
       "      <th>Sigla da UGC</th>\n",
       "      <th>Código da UGC</th>\n",
       "      <th>Código da UGE</th>\n",
       "      <th>Nome da UGE</th>\n",
       "      <th>Despesa Gerencial</th>\n",
       "      <th>Detalhamento da Despesa Gerencial</th>\n",
       "      <th>Código da Ação do Orçamento</th>\n",
       "      <th>Nome da Ação do Orçamento</th>\n",
       "      <th>...</th>\n",
       "      <th>Descrição do Item GBP</th>\n",
       "      <th>Licitação</th>\n",
       "      <th>Contrato</th>\n",
       "      <th>CEO</th>\n",
       "      <th>Observação da Liquidação</th>\n",
       "      <th>Valor Liquidado</th>\n",
       "      <th>Total Estornado</th>\n",
       "      <th>Total Líquido</th>\n",
       "      <th>AnoMes</th>\n",
       "      <th>Ano</th>\n",
       "    </tr>\n",
       "  </thead>\n",
       "  <tbody>\n",
       "    <tr>\n",
       "      <th>5306</th>\n",
       "      <td>2918719</td>\n",
       "      <td>186765</td>\n",
       "      <td>FES-PE</td>\n",
       "      <td>530400</td>\n",
       "      <td>530401</td>\n",
       "      <td>FUNDO ESTADUAL DE SAÚDE</td>\n",
       "      <td>CUSTEIO</td>\n",
       "      <td>Auxílio Funeral</td>\n",
       "      <td>602</td>\n",
       "      <td>Manutenção do Pessoal da Secretaria de Saúde e...</td>\n",
       "      <td>...</td>\n",
       "      <td>-</td>\n",
       "      <td>-</td>\n",
       "      <td>-</td>\n",
       "      <td>-</td>\n",
       "      <td>LIQUIDAÇÃO DA DESPESA DE AUXÍLIO FUNERAL DO EX...</td>\n",
       "      <td>1030.97</td>\n",
       "      <td>0.0</td>\n",
       "      <td>1030.97</td>\n",
       "      <td>201911</td>\n",
       "      <td>2019</td>\n",
       "    </tr>\n",
       "    <tr>\n",
       "      <th>6333</th>\n",
       "      <td>3474694</td>\n",
       "      <td>168299</td>\n",
       "      <td>DER-PE</td>\n",
       "      <td>650200</td>\n",
       "      <td>650201</td>\n",
       "      <td>DEPARTAMENTO DE ESTRADAS E RODAGEM DO ESTADO D...</td>\n",
       "      <td>CUSTEIO</td>\n",
       "      <td>Auxílio Funeral</td>\n",
       "      <td>4356</td>\n",
       "      <td>Gestão das Atividades do Departamento de Estra...</td>\n",
       "      <td>...</td>\n",
       "      <td>-</td>\n",
       "      <td>-</td>\n",
       "      <td>-</td>\n",
       "      <td>-</td>\n",
       "      <td>VALOR REFERENTE AUXILIO FUNERAL EX-SERVIDOR  J...</td>\n",
       "      <td>1476.99</td>\n",
       "      <td>0.0</td>\n",
       "      <td>1476.99</td>\n",
       "      <td>202006</td>\n",
       "      <td>2020</td>\n",
       "    </tr>\n",
       "    <tr>\n",
       "      <th>6388</th>\n",
       "      <td>3502132</td>\n",
       "      <td>195737</td>\n",
       "      <td>ENCARGOS-SARE</td>\n",
       "      <td>290100</td>\n",
       "      <td>290101</td>\n",
       "      <td>RECURSOS SOB SUPERVISAO DA SARE</td>\n",
       "      <td>CUSTEIO</td>\n",
       "      <td>Auxílio Funeral</td>\n",
       "      <td>2853</td>\n",
       "      <td>Encargos com Auxílio Funeral de Inativos da Ad...</td>\n",
       "      <td>...</td>\n",
       "      <td>-</td>\n",
       "      <td>-</td>\n",
       "      <td>-</td>\n",
       "      <td>-</td>\n",
       "      <td>LIQUIDAÇÃO DA 2020NE000014, REF. AO PAGAMENTO ...</td>\n",
       "      <td>32805.14</td>\n",
       "      <td>0.0</td>\n",
       "      <td>32805.14</td>\n",
       "      <td>202001</td>\n",
       "      <td>2020</td>\n",
       "    </tr>\n",
       "    <tr>\n",
       "      <th>6428</th>\n",
       "      <td>3502172</td>\n",
       "      <td>195777</td>\n",
       "      <td>ENCARGOS-SARE</td>\n",
       "      <td>290100</td>\n",
       "      <td>290101</td>\n",
       "      <td>RECURSOS SOB SUPERVISAO DA SARE</td>\n",
       "      <td>CUSTEIO</td>\n",
       "      <td>Auxílio Funeral</td>\n",
       "      <td>2853</td>\n",
       "      <td>Encargos com Auxílio Funeral de Inativos da Ad...</td>\n",
       "      <td>...</td>\n",
       "      <td>-</td>\n",
       "      <td>-</td>\n",
       "      <td>-</td>\n",
       "      <td>-</td>\n",
       "      <td>LIQUIDAÇÃO DA 2020NE00130, REF. AO PAGAMENTO D...</td>\n",
       "      <td>1894.85</td>\n",
       "      <td>0.0</td>\n",
       "      <td>1894.85</td>\n",
       "      <td>202003</td>\n",
       "      <td>2020</td>\n",
       "    </tr>\n",
       "    <tr>\n",
       "      <th>3694</th>\n",
       "      <td>2071827</td>\n",
       "      <td>484676</td>\n",
       "      <td>ENCARGOS-SARE</td>\n",
       "      <td>290100</td>\n",
       "      <td>290101</td>\n",
       "      <td>RECURSOS SOB SUPERVISAO DA SARE</td>\n",
       "      <td>CUSTEIO</td>\n",
       "      <td>Auxílio Funeral</td>\n",
       "      <td>2853</td>\n",
       "      <td>Encargos com Auxílio Funeral de Inativos da Ad...</td>\n",
       "      <td>...</td>\n",
       "      <td>-</td>\n",
       "      <td>-</td>\n",
       "      <td>-</td>\n",
       "      <td>-</td>\n",
       "      <td>LIQUIDAÇÃO DA 2017NE000393.REF. AO PAGAMENTO D...</td>\n",
       "      <td>3100.00</td>\n",
       "      <td>0.0</td>\n",
       "      <td>3100.00</td>\n",
       "      <td>201705</td>\n",
       "      <td>2017</td>\n",
       "    </tr>\n",
       "  </tbody>\n",
       "</table>\n",
       "<p>5 rows × 43 columns</p>\n",
       "</div>"
      ],
      "text/plain": [
       "      Unnamed: 0  Unnamed: 0.1   Sigla da UGC  Código da UGC  Código da UGE  \\\n",
       "5306     2918719        186765         FES-PE         530400         530401   \n",
       "6333     3474694        168299         DER-PE         650200         650201   \n",
       "6388     3502132        195737  ENCARGOS-SARE         290100         290101   \n",
       "6428     3502172        195777  ENCARGOS-SARE         290100         290101   \n",
       "3694     2071827        484676  ENCARGOS-SARE         290100         290101   \n",
       "\n",
       "                                            Nome da UGE Despesa Gerencial  \\\n",
       "5306                            FUNDO ESTADUAL DE SAÚDE           CUSTEIO   \n",
       "6333  DEPARTAMENTO DE ESTRADAS E RODAGEM DO ESTADO D...           CUSTEIO   \n",
       "6388                    RECURSOS SOB SUPERVISAO DA SARE           CUSTEIO   \n",
       "6428                    RECURSOS SOB SUPERVISAO DA SARE           CUSTEIO   \n",
       "3694                    RECURSOS SOB SUPERVISAO DA SARE           CUSTEIO   \n",
       "\n",
       "     Detalhamento da Despesa Gerencial  Código da Ação do Orçamento  \\\n",
       "5306                   Auxílio Funeral                          602   \n",
       "6333                   Auxílio Funeral                         4356   \n",
       "6388                   Auxílio Funeral                         2853   \n",
       "6428                   Auxílio Funeral                         2853   \n",
       "3694                   Auxílio Funeral                         2853   \n",
       "\n",
       "                              Nome da Ação do Orçamento  ...  \\\n",
       "5306  Manutenção do Pessoal da Secretaria de Saúde e...  ...   \n",
       "6333  Gestão das Atividades do Departamento de Estra...  ...   \n",
       "6388  Encargos com Auxílio Funeral de Inativos da Ad...  ...   \n",
       "6428  Encargos com Auxílio Funeral de Inativos da Ad...  ...   \n",
       "3694  Encargos com Auxílio Funeral de Inativos da Ad...  ...   \n",
       "\n",
       "     Descrição do Item GBP Licitação Contrato CEO  \\\n",
       "5306                     -         -        -   -   \n",
       "6333                     -         -        -   -   \n",
       "6388                     -         -        -   -   \n",
       "6428                     -         -        -   -   \n",
       "3694                     -         -        -   -   \n",
       "\n",
       "                               Observação da Liquidação Valor Liquidado  \\\n",
       "5306  LIQUIDAÇÃO DA DESPESA DE AUXÍLIO FUNERAL DO EX...         1030.97   \n",
       "6333  VALOR REFERENTE AUXILIO FUNERAL EX-SERVIDOR  J...         1476.99   \n",
       "6388  LIQUIDAÇÃO DA 2020NE000014, REF. AO PAGAMENTO ...        32805.14   \n",
       "6428  LIQUIDAÇÃO DA 2020NE00130, REF. AO PAGAMENTO D...         1894.85   \n",
       "3694  LIQUIDAÇÃO DA 2017NE000393.REF. AO PAGAMENTO D...         3100.00   \n",
       "\n",
       "     Total Estornado Total Líquido  AnoMes   Ano  \n",
       "5306             0.0       1030.97  201911  2019  \n",
       "6333             0.0       1476.99  202006  2020  \n",
       "6388             0.0      32805.14  202001  2020  \n",
       "6428             0.0       1894.85  202003  2020  \n",
       "3694             0.0       3100.00  201705  2017  \n",
       "\n",
       "[5 rows x 43 columns]"
      ]
     },
     "execution_count": 54,
     "metadata": {},
     "output_type": "execute_result"
    }
   ],
   "source": [
    "auxfuneral_df = pd.read_csv('../../dados/df_auxfuneral.csv', sep = ';', index_col = False, header=0)\n",
    "print(len(auxfuneral_df))\n",
    "auxfuneral_df.sample(5)"
   ]
  },
  {
   "cell_type": "code",
   "execution_count": 55,
   "metadata": {},
   "outputs": [
    {
     "data": {
      "text/plain": [
       "Index(['Unnamed: 0', 'Unnamed: 0.1', 'Sigla da UGC', 'Código da UGC',\n",
       "       'Código da UGE', 'Nome da UGE', 'Despesa Gerencial',\n",
       "       'Detalhamento da Despesa Gerencial', 'Código da Ação do Orçamento',\n",
       "       'Nome da Ação do Orçamento', 'Código da Subação do Orçamento',\n",
       "       'Nome da Subação', 'Tipo da Prioridade de Subação',\n",
       "       'Indicador de DEA (Despesa de Exercício Anterior)',\n",
       "       'Código da Fonte de Recurso', 'Descrição da Fonte de Recurso',\n",
       "       'Número do Empenho', 'Data do Empenho',\n",
       "       'CPF, CNPJ, IG ou UG/Gestão do Credor',\n",
       "       'Nome ou Razão Social do Credor', 'Número do DH', 'Competência do DH',\n",
       "       'Número da Liquidação', 'Data da Liquidação', 'Mês da Liquidação',\n",
       "       'Grupo da Despesa', 'Modalidade de Aplicação', 'Elemento da Despesa',\n",
       "       'Descrição do Elemento da Despesa', 'Código do Item de Gasto',\n",
       "       'Descrição do Item de Gasto', 'Descrição do Item Externo',\n",
       "       'Código do Item GBP', 'Descrição do Item GBP', 'Licitação', 'Contrato',\n",
       "       'CEO', 'Observação da Liquidação', 'Valor Liquidado', 'Total Estornado',\n",
       "       'Total Líquido', 'AnoMes', 'Ano'],\n",
       "      dtype='object')"
      ]
     },
     "execution_count": 55,
     "metadata": {},
     "output_type": "execute_result"
    }
   ],
   "source": [
    "auxfuneral_df.columns"
   ]
  },
  {
   "cell_type": "code",
   "execution_count": 56,
   "metadata": {},
   "outputs": [
    {
     "data": {
      "text/html": [
       "<div>\n",
       "<style scoped>\n",
       "    .dataframe tbody tr th:only-of-type {\n",
       "        vertical-align: middle;\n",
       "    }\n",
       "\n",
       "    .dataframe tbody tr th {\n",
       "        vertical-align: top;\n",
       "    }\n",
       "\n",
       "    .dataframe thead th {\n",
       "        text-align: right;\n",
       "    }\n",
       "</style>\n",
       "<table border=\"1\" class=\"dataframe\">\n",
       "  <thead>\n",
       "    <tr style=\"text-align: right;\">\n",
       "      <th></th>\n",
       "      <th>Data da Liquidação</th>\n",
       "      <th>Qtd</th>\n",
       "    </tr>\n",
       "  </thead>\n",
       "  <tbody>\n",
       "    <tr>\n",
       "      <th>0</th>\n",
       "      <td>2014-01-02</td>\n",
       "      <td>1</td>\n",
       "    </tr>\n",
       "    <tr>\n",
       "      <th>1</th>\n",
       "      <td>2014-01-13</td>\n",
       "      <td>1</td>\n",
       "    </tr>\n",
       "    <tr>\n",
       "      <th>2</th>\n",
       "      <td>2014-01-16</td>\n",
       "      <td>1</td>\n",
       "    </tr>\n",
       "    <tr>\n",
       "      <th>3</th>\n",
       "      <td>2014-01-21</td>\n",
       "      <td>2</td>\n",
       "    </tr>\n",
       "    <tr>\n",
       "      <th>4</th>\n",
       "      <td>2014-01-22</td>\n",
       "      <td>1</td>\n",
       "    </tr>\n",
       "  </tbody>\n",
       "</table>\n",
       "</div>"
      ],
      "text/plain": [
       "  Data da Liquidação  Qtd\n",
       "0         2014-01-02    1\n",
       "1         2014-01-13    1\n",
       "2         2014-01-16    1\n",
       "3         2014-01-21    2\n",
       "4         2014-01-22    1"
      ]
     },
     "execution_count": 56,
     "metadata": {},
     "output_type": "execute_result"
    }
   ],
   "source": [
    "auxfuneral_grouped_df = auxfuneral_df.groupby(['Data da Liquidação']).count()\n",
    "auxfuneral_grouped_df.reset_index(inplace=True)\n",
    "auxfuneral_grouped_df = auxfuneral_grouped_df.rename(columns={'Unnamed: 0': 'Qtd'})\n",
    "auxfuneral_grouped_df = auxfuneral_grouped_df[['Data da Liquidação','Qtd']]\n",
    "auxfuneral_grouped_df.head()"
   ]
  },
  {
   "cell_type": "code",
   "execution_count": 57,
   "metadata": {},
   "outputs": [
    {
     "data": {
      "text/html": [
       "<div>\n",
       "<style scoped>\n",
       "    .dataframe tbody tr th:only-of-type {\n",
       "        vertical-align: middle;\n",
       "    }\n",
       "\n",
       "    .dataframe tbody tr th {\n",
       "        vertical-align: top;\n",
       "    }\n",
       "\n",
       "    .dataframe thead th {\n",
       "        text-align: right;\n",
       "    }\n",
       "</style>\n",
       "<table border=\"1\" class=\"dataframe\">\n",
       "  <thead>\n",
       "    <tr style=\"text-align: right;\">\n",
       "      <th></th>\n",
       "      <th>Data da Liquidação</th>\n",
       "      <th>Qtd</th>\n",
       "      <th>Data</th>\n",
       "      <th>Data_Delta</th>\n",
       "    </tr>\n",
       "  </thead>\n",
       "  <tbody>\n",
       "    <tr>\n",
       "      <th>0</th>\n",
       "      <td>2014-01-02</td>\n",
       "      <td>1</td>\n",
       "      <td>2014-01-02</td>\n",
       "      <td>0.0</td>\n",
       "    </tr>\n",
       "    <tr>\n",
       "      <th>1</th>\n",
       "      <td>2014-01-13</td>\n",
       "      <td>1</td>\n",
       "      <td>2014-01-13</td>\n",
       "      <td>11.0</td>\n",
       "    </tr>\n",
       "    <tr>\n",
       "      <th>2</th>\n",
       "      <td>2014-01-16</td>\n",
       "      <td>1</td>\n",
       "      <td>2014-01-16</td>\n",
       "      <td>14.0</td>\n",
       "    </tr>\n",
       "    <tr>\n",
       "      <th>3</th>\n",
       "      <td>2014-01-21</td>\n",
       "      <td>2</td>\n",
       "      <td>2014-01-21</td>\n",
       "      <td>19.0</td>\n",
       "    </tr>\n",
       "    <tr>\n",
       "      <th>4</th>\n",
       "      <td>2014-01-22</td>\n",
       "      <td>1</td>\n",
       "      <td>2014-01-22</td>\n",
       "      <td>20.0</td>\n",
       "    </tr>\n",
       "  </tbody>\n",
       "</table>\n",
       "</div>"
      ],
      "text/plain": [
       "  Data da Liquidação  Qtd       Data  Data_Delta\n",
       "0         2014-01-02    1 2014-01-02         0.0\n",
       "1         2014-01-13    1 2014-01-13        11.0\n",
       "2         2014-01-16    1 2014-01-16        14.0\n",
       "3         2014-01-21    2 2014-01-21        19.0\n",
       "4         2014-01-22    1 2014-01-22        20.0"
      ]
     },
     "execution_count": 57,
     "metadata": {},
     "output_type": "execute_result"
    }
   ],
   "source": [
    "auxfuneral_grouped_df['Data'] = pd.to_datetime(auxfuneral_grouped_df['Data da Liquidação'])    \n",
    "auxfuneral_grouped_df['Data_Delta'] = (auxfuneral_grouped_df['Data'] - auxfuneral_grouped_df['Data'].min())  / np.timedelta64(1,'D')\n",
    "auxfuneral_grouped_df.head()"
   ]
  },
  {
   "cell_type": "code",
   "execution_count": 58,
   "metadata": {},
   "outputs": [
    {
     "name": "stdout",
     "output_type": "stream",
     "text": [
      "(1407, 2)\n"
     ]
    },
    {
     "data": {
      "text/html": [
       "<div>\n",
       "<style scoped>\n",
       "    .dataframe tbody tr th:only-of-type {\n",
       "        vertical-align: middle;\n",
       "    }\n",
       "\n",
       "    .dataframe tbody tr th {\n",
       "        vertical-align: top;\n",
       "    }\n",
       "\n",
       "    .dataframe thead th {\n",
       "        text-align: right;\n",
       "    }\n",
       "</style>\n",
       "<table border=\"1\" class=\"dataframe\">\n",
       "  <thead>\n",
       "    <tr style=\"text-align: right;\">\n",
       "      <th></th>\n",
       "      <th>Data_Delta</th>\n",
       "      <th>Qtd</th>\n",
       "    </tr>\n",
       "  </thead>\n",
       "  <tbody>\n",
       "    <tr>\n",
       "      <th>0</th>\n",
       "      <td>0.0</td>\n",
       "      <td>1</td>\n",
       "    </tr>\n",
       "    <tr>\n",
       "      <th>1</th>\n",
       "      <td>11.0</td>\n",
       "      <td>1</td>\n",
       "    </tr>\n",
       "    <tr>\n",
       "      <th>2</th>\n",
       "      <td>14.0</td>\n",
       "      <td>1</td>\n",
       "    </tr>\n",
       "    <tr>\n",
       "      <th>3</th>\n",
       "      <td>19.0</td>\n",
       "      <td>2</td>\n",
       "    </tr>\n",
       "    <tr>\n",
       "      <th>4</th>\n",
       "      <td>20.0</td>\n",
       "      <td>1</td>\n",
       "    </tr>\n",
       "  </tbody>\n",
       "</table>\n",
       "</div>"
      ],
      "text/plain": [
       "   Data_Delta  Qtd\n",
       "0         0.0    1\n",
       "1        11.0    1\n",
       "2        14.0    1\n",
       "3        19.0    2\n",
       "4        20.0    1"
      ]
     },
     "execution_count": 58,
     "metadata": {},
     "output_type": "execute_result"
    }
   ],
   "source": [
    "dados_df = auxfuneral_grouped_df[['Data_Delta','Qtd']]\n",
    "print(dados_df.shape)\n",
    "dados_df.head()"
   ]
  },
  {
   "cell_type": "code",
   "execution_count": 59,
   "metadata": {},
   "outputs": [
    {
     "name": "stdout",
     "output_type": "stream",
     "text": [
      "[   0.   11.   14. ... 2387. 2388. 2391.]\n",
      "[ 1  1  1 ...  1  2 18]\n"
     ]
    }
   ],
   "source": [
    "X = dados_df.iloc[:,0].values\n",
    "y = dados_df.iloc[:,1].values\n",
    "print(X)\n",
    "print(y)"
   ]
  },
  {
   "cell_type": "code",
   "execution_count": 60,
   "metadata": {},
   "outputs": [
    {
     "data": {
      "text/plain": [
       "array([[ 1.        , -0.02591347],\n",
       "       [-0.02591347,  1.        ]])"
      ]
     },
     "execution_count": 60,
     "metadata": {},
     "output_type": "execute_result"
    }
   ],
   "source": [
    "correlacao = np.corrcoef(X,y)\n",
    "correlacao"
   ]
  },
  {
   "cell_type": "code",
   "execution_count": 63,
   "metadata": {},
   "outputs": [
    {
     "data": {
      "text/plain": [
       "array([[   0.],\n",
       "       [  11.],\n",
       "       [  14.],\n",
       "       ...,\n",
       "       [2387.],\n",
       "       [2388.],\n",
       "       [2391.]])"
      ]
     },
     "execution_count": 63,
     "metadata": {},
     "output_type": "execute_result"
    }
   ],
   "source": [
    "X = X.reshape(-1,1)\n",
    "X"
   ]
  },
  {
   "cell_type": "code",
   "execution_count": 64,
   "metadata": {},
   "outputs": [
    {
     "data": {
      "text/plain": [
       "LinearRegression()"
      ]
     },
     "execution_count": 64,
     "metadata": {},
     "output_type": "execute_result"
    }
   ],
   "source": [
    "from sklearn.linear_model import LinearRegression\n",
    "modeloReg = LinearRegression()\n",
    "modeloReg.fit(X,y)"
   ]
  },
  {
   "cell_type": "code",
   "execution_count": 65,
   "metadata": {},
   "outputs": [
    {
     "data": {
      "text/plain": [
       "array([-0.00013944])"
      ]
     },
     "execution_count": 65,
     "metadata": {},
     "output_type": "execute_result"
    }
   ],
   "source": [
    "modeloReg.coef_"
   ]
  },
  {
   "cell_type": "code",
   "execution_count": 66,
   "metadata": {},
   "outputs": [
    {
     "data": {
      "text/plain": [
       "4.951067800106688"
      ]
     },
     "execution_count": 66,
     "metadata": {},
     "output_type": "execute_result"
    }
   ],
   "source": [
    "modeloReg.intercept_"
   ]
  },
  {
   "cell_type": "code",
   "execution_count": 67,
   "metadata": {},
   "outputs": [
    {
     "data": {
      "text/plain": [
       "[<matplotlib.lines.Line2D at 0x9d45154388>]"
      ]
     },
     "execution_count": 67,
     "metadata": {},
     "output_type": "execute_result"
    },
    {
     "data": {
      "image/png": "[encoded data removed]",
      "text/plain": [
       "<Figure size 432x288 with 1 Axes>"
      ]
     },
     "metadata": {
      "needs_background": "light"
     },
     "output_type": "display_data"
    }
   ],
   "source": [
    "plt.scatter(X,y)\n",
    "plt.title(\"Regressão Linear Simples\")\n",
    "plt.xlabel(\"Data Delta\")\n",
    "plt.ylabel(\"Qtd de ocorrências\")\n",
    "# desenhar a reta\n",
    "plt.plot(X, modeloReg.predict(X), color='red')\n"
   ]
  },
  {
   "cell_type": "code",
   "execution_count": 72,
   "metadata": {},
   "outputs": [
    {
     "name": "stdout",
     "output_type": "stream",
     "text": [
      "[[2420.]]\n"
     ]
    }
   ],
   "source": [
    "data = '2020-08-18'\n",
    "data_df = pd.DataFrame([data], columns=['data'])\n",
    "data_df['data_formatada'] = pd.to_datetime(data_df['data'])\n",
    "\n",
    "entrada_modelo1 = ((data_df['data_formatada'] - auxfuneral_grouped_df['Data'].min())  / np.timedelta64(1,'D'))\n",
    "entrada_modelo1 = np.array(entrada_modelo1).reshape(-1,1)\n",
    "print(entrada_modelo1)"
   ]
  },
  {
   "cell_type": "code",
   "execution_count": 73,
   "metadata": {
    "scrolled": true
   },
   "outputs": [
    {
     "data": {
      "text/plain": [
       "array([4.61361999])"
      ]
     },
     "execution_count": 73,
     "metadata": {},
     "output_type": "execute_result"
    }
   ],
   "source": [
    "previsao1 = modeloReg.predict(entrada_modelo1)\n",
    "previsao1"
   ]
  },
  {
   "cell_type": "code",
   "execution_count": 74,
   "metadata": {},
   "outputs": [
    {
     "data": {
      "text/plain": [
       "array([[4.61361999]])"
      ]
     },
     "execution_count": 74,
     "metadata": {},
     "output_type": "execute_result"
    }
   ],
   "source": [
    "#y = ax + b\n",
    "previsao2 = modeloReg.coef_ * entrada_modelo1 + modeloReg.intercept_\n",
    "previsao2"
   ]
  },
  {
   "cell_type": "code",
   "execution_count": 75,
   "metadata": {},
   "outputs": [
    {
     "data": {
      "text/plain": [
       "0.0006715077293368843"
      ]
     },
     "execution_count": 75,
     "metadata": {},
     "output_type": "execute_result"
    }
   ],
   "source": [
    "score = modeloReg.score(X,y)\n",
    "score"
   ]
  },
  {
   "cell_type": "code",
   "execution_count": 83,
   "metadata": {},
   "outputs": [
    {
     "name": "stderr",
     "output_type": "stream",
     "text": [
      "c:\\users\\thiego\\anaconda3\\envs\\projeto_md\\lib\\site-packages\\sklearn\\base.py:213: FutureWarning: From version 0.24, get_params will raise an AttributeError if a parameter cannot be retrieved as an instance attribute. Previously it would return None.\n",
      "  FutureWarning)\n"
     ]
    },
    {
     "data": {
      "text/plain": [
       "<bound method Visualizer.poof of ResidualsPlot(ax=<matplotlib.axes._subplots.AxesSubplot object at 0x0000009D4785D7C8>,\n",
       "              line_color=None, model=None, test_alpha=None, test_color=None,\n",
       "              train_alpha=None, train_color=None)>"
      ]
     },
     "execution_count": 83,
     "metadata": {},
     "output_type": "execute_result"
    },
    {
     "data": {
      "image/png": "[encoded data removed]",
      "text/plain": [
       "<Figure size 576x396 with 2 Axes>"
      ]
     },
     "metadata": {},
     "output_type": "display_data"
    }
   ],
   "source": [
    "#!pip install yellowbrick\n",
    "from yellowbrick.regressor import ResidualsPlot\n",
    "visualizador = ResidualsPlot(modeloReg)\n",
    "visualizador.fit(X,y)\n",
    "visualizador.poof"
   ]
  },
  {
   "cell_type": "code",
   "execution_count": null,
   "metadata": {},
   "outputs": [],
   "source": []
  }
 ],
 "metadata": {
  "kernelspec": {
   "display_name": "Python 3",
   "language": "python",
   "name": "python3"
  },
  "language_info": {
   "codemirror_mode": {
    "name": "ipython",
    "version": 3
   },
   "file_extension": ".py",
   "mimetype": "text/x-python",
   "name": "python",
   "nbconvert_exporter": "python",
   "pygments_lexer": "ipython3",
   "version": "3.7.7"
  }
 },
 "nbformat": 4,
 "nbformat_minor": 4
}
